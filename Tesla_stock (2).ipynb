{
  "nbformat": 4,
  "nbformat_minor": 0,
  "metadata": {
    "colab": {
      "name": "Tesla_stock.ipynb",
      "provenance": [],
      "collapsed_sections": []
    },
    "kernelspec": {
      "name": "python3",
      "display_name": "Python 3"
    },
    "language_info": {
      "name": "python"
    }
  },
  "cells": [
    {
      "cell_type": "code",
      "metadata": {
        "id": "pl9gJ4ZxEL5-"
      },
      "source": [
        "import numpy as np\n",
        "import seaborn as sns\n",
        "import pandas as pd\n",
        "import matplotlib.pyplot as plt\n",
        "from sklearn.preprocessing import scale \n",
        "from sklearn import model_selection\n",
        "from sklearn.model_selection import RepeatedKFold\n",
        "from sklearn.model_selection import train_test_split\n",
        "from sklearn.decomposition import PCA\n",
        "from sklearn.linear_model import LinearRegression\n",
        "from sklearn.metrics import mean_squared_error"
      ],
      "execution_count": null,
      "outputs": []
    },
    {
      "cell_type": "code",
      "metadata": {
        "id": "GOoh0QI_OO2w"
      },
      "source": [
        "import numpy as np\n",
        "import pandas as pd\n",
        "from sklearn import preprocessing\n",
        "from sklearn import metrics\n",
        "from sklearn.model_selection import train_test_split\n",
        "from sklearn.linear_model import LinearRegression\n",
        "import matplotlib.pyplot as plt"
      ],
      "execution_count": null,
      "outputs": []
    },
    {
      "cell_type": "code",
      "metadata": {
        "colab": {
          "resources": {
            "http://localhost:8080/nbextensions/google.colab/files.js": {
              "data": "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",
              "ok": true,
              "headers": [
                [
                  "content-type",
                  "application/javascript"
                ]
              ],
              "status": 200,
              "status_text": ""
            }
          },
          "base_uri": "https://localhost:8080/",
          "height": 73
        },
        "id": "_qb5_v26OO4i",
        "outputId": "42eb10b9-2096-4659-ef19-139f5e755c29"
      },
      "source": [
        "from google.colab import files\n",
        "uploaded = files.upload()"
      ],
      "execution_count": null,
      "outputs": [
        {
          "output_type": "display_data",
          "data": {
            "text/html": [
              "\n",
              "     <input type=\"file\" id=\"files-5928121b-408c-4f87-a9da-7c88b364852a\" name=\"files[]\" multiple disabled\n",
              "        style=\"border:none\" />\n",
              "     <output id=\"result-5928121b-408c-4f87-a9da-7c88b364852a\">\n",
              "      Upload widget is only available when the cell has been executed in the\n",
              "      current browser session. Please rerun this cell to enable.\n",
              "      </output>\n",
              "      <script src=\"/nbextensions/google.colab/files.js\"></script> "
            ],
            "text/plain": [
              "<IPython.core.display.HTML object>"
            ]
          },
          "metadata": {
            "tags": []
          }
        },
        {
          "output_type": "stream",
          "text": [
            "Saving TSLA.csv to TSLA.csv\n"
          ],
          "name": "stdout"
        }
      ]
    },
    {
      "cell_type": "code",
      "metadata": {
        "colab": {
          "base_uri": "https://localhost:8080/",
          "height": 202
        },
        "id": "CFc5102kOO6j",
        "outputId": "d3b0275a-22ad-4486-d2f9-a1e37e877ec1"
      },
      "source": [
        "data = pd.read_csv(\"TSLA.csv\")\n",
        "data.head()"
      ],
      "execution_count": null,
      "outputs": [
        {
          "output_type": "execute_result",
          "data": {
            "text/html": [
              "<div>\n",
              "<style scoped>\n",
              "    .dataframe tbody tr th:only-of-type {\n",
              "        vertical-align: middle;\n",
              "    }\n",
              "\n",
              "    .dataframe tbody tr th {\n",
              "        vertical-align: top;\n",
              "    }\n",
              "\n",
              "    .dataframe thead th {\n",
              "        text-align: right;\n",
              "    }\n",
              "</style>\n",
              "<table border=\"1\" class=\"dataframe\">\n",
              "  <thead>\n",
              "    <tr style=\"text-align: right;\">\n",
              "      <th></th>\n",
              "      <th>Date</th>\n",
              "      <th>Open</th>\n",
              "      <th>High</th>\n",
              "      <th>Low</th>\n",
              "      <th>Close</th>\n",
              "      <th>Adj Close</th>\n",
              "      <th>Volume</th>\n",
              "    </tr>\n",
              "  </thead>\n",
              "  <tbody>\n",
              "    <tr>\n",
              "      <th>0</th>\n",
              "      <td>2010-06-29</td>\n",
              "      <td>19.000000</td>\n",
              "      <td>25.00</td>\n",
              "      <td>17.540001</td>\n",
              "      <td>23.889999</td>\n",
              "      <td>23.889999</td>\n",
              "      <td>18766300</td>\n",
              "    </tr>\n",
              "    <tr>\n",
              "      <th>1</th>\n",
              "      <td>2010-06-30</td>\n",
              "      <td>25.790001</td>\n",
              "      <td>30.42</td>\n",
              "      <td>23.299999</td>\n",
              "      <td>23.830000</td>\n",
              "      <td>23.830000</td>\n",
              "      <td>17187100</td>\n",
              "    </tr>\n",
              "    <tr>\n",
              "      <th>2</th>\n",
              "      <td>2010-07-01</td>\n",
              "      <td>25.000000</td>\n",
              "      <td>25.92</td>\n",
              "      <td>20.270000</td>\n",
              "      <td>21.959999</td>\n",
              "      <td>21.959999</td>\n",
              "      <td>8218800</td>\n",
              "    </tr>\n",
              "    <tr>\n",
              "      <th>3</th>\n",
              "      <td>2010-07-02</td>\n",
              "      <td>23.000000</td>\n",
              "      <td>23.10</td>\n",
              "      <td>18.709999</td>\n",
              "      <td>19.200001</td>\n",
              "      <td>19.200001</td>\n",
              "      <td>5139800</td>\n",
              "    </tr>\n",
              "    <tr>\n",
              "      <th>4</th>\n",
              "      <td>2010-07-06</td>\n",
              "      <td>20.000000</td>\n",
              "      <td>20.00</td>\n",
              "      <td>15.830000</td>\n",
              "      <td>16.110001</td>\n",
              "      <td>16.110001</td>\n",
              "      <td>6866900</td>\n",
              "    </tr>\n",
              "  </tbody>\n",
              "</table>\n",
              "</div>"
            ],
            "text/plain": [
              "         Date       Open   High        Low      Close  Adj Close    Volume\n",
              "0  2010-06-29  19.000000  25.00  17.540001  23.889999  23.889999  18766300\n",
              "1  2010-06-30  25.790001  30.42  23.299999  23.830000  23.830000  17187100\n",
              "2  2010-07-01  25.000000  25.92  20.270000  21.959999  21.959999   8218800\n",
              "3  2010-07-02  23.000000  23.10  18.709999  19.200001  19.200001   5139800\n",
              "4  2010-07-06  20.000000  20.00  15.830000  16.110001  16.110001   6866900"
            ]
          },
          "metadata": {
            "tags": []
          },
          "execution_count": 4
        }
      ]
    },
    {
      "cell_type": "code",
      "metadata": {
        "colab": {
          "base_uri": "https://localhost:8080/",
          "height": 202
        },
        "id": "bgGANWeWOO85",
        "outputId": "abb4f988-dca3-48b1-d72f-844d55df29fd"
      },
      "source": [
        "data.tail()"
      ],
      "execution_count": null,
      "outputs": [
        {
          "output_type": "execute_result",
          "data": {
            "text/html": [
              "<div>\n",
              "<style scoped>\n",
              "    .dataframe tbody tr th:only-of-type {\n",
              "        vertical-align: middle;\n",
              "    }\n",
              "\n",
              "    .dataframe tbody tr th {\n",
              "        vertical-align: top;\n",
              "    }\n",
              "\n",
              "    .dataframe thead th {\n",
              "        text-align: right;\n",
              "    }\n",
              "</style>\n",
              "<table border=\"1\" class=\"dataframe\">\n",
              "  <thead>\n",
              "    <tr style=\"text-align: right;\">\n",
              "      <th></th>\n",
              "      <th>Date</th>\n",
              "      <th>Open</th>\n",
              "      <th>High</th>\n",
              "      <th>Low</th>\n",
              "      <th>Close</th>\n",
              "      <th>Adj Close</th>\n",
              "      <th>Volume</th>\n",
              "    </tr>\n",
              "  </thead>\n",
              "  <tbody>\n",
              "    <tr>\n",
              "      <th>2411</th>\n",
              "      <td>2020-01-28</td>\n",
              "      <td>568.489990</td>\n",
              "      <td>576.809998</td>\n",
              "      <td>558.080017</td>\n",
              "      <td>566.900024</td>\n",
              "      <td>566.900024</td>\n",
              "      <td>11788500</td>\n",
              "    </tr>\n",
              "    <tr>\n",
              "      <th>2412</th>\n",
              "      <td>2020-01-29</td>\n",
              "      <td>575.690002</td>\n",
              "      <td>589.799988</td>\n",
              "      <td>567.429993</td>\n",
              "      <td>580.989990</td>\n",
              "      <td>580.989990</td>\n",
              "      <td>17801500</td>\n",
              "    </tr>\n",
              "    <tr>\n",
              "      <th>2413</th>\n",
              "      <td>2020-01-30</td>\n",
              "      <td>632.419983</td>\n",
              "      <td>650.880005</td>\n",
              "      <td>618.000000</td>\n",
              "      <td>640.809998</td>\n",
              "      <td>640.809998</td>\n",
              "      <td>29005700</td>\n",
              "    </tr>\n",
              "    <tr>\n",
              "      <th>2414</th>\n",
              "      <td>2020-01-31</td>\n",
              "      <td>640.000000</td>\n",
              "      <td>653.000000</td>\n",
              "      <td>632.520020</td>\n",
              "      <td>650.570007</td>\n",
              "      <td>650.570007</td>\n",
              "      <td>15719300</td>\n",
              "    </tr>\n",
              "    <tr>\n",
              "      <th>2415</th>\n",
              "      <td>2020-02-03</td>\n",
              "      <td>673.690002</td>\n",
              "      <td>786.140015</td>\n",
              "      <td>673.520020</td>\n",
              "      <td>780.000000</td>\n",
              "      <td>780.000000</td>\n",
              "      <td>47065000</td>\n",
              "    </tr>\n",
              "  </tbody>\n",
              "</table>\n",
              "</div>"
            ],
            "text/plain": [
              "            Date        Open        High  ...       Close   Adj Close    Volume\n",
              "2411  2020-01-28  568.489990  576.809998  ...  566.900024  566.900024  11788500\n",
              "2412  2020-01-29  575.690002  589.799988  ...  580.989990  580.989990  17801500\n",
              "2413  2020-01-30  632.419983  650.880005  ...  640.809998  640.809998  29005700\n",
              "2414  2020-01-31  640.000000  653.000000  ...  650.570007  650.570007  15719300\n",
              "2415  2020-02-03  673.690002  786.140015  ...  780.000000  780.000000  47065000\n",
              "\n",
              "[5 rows x 7 columns]"
            ]
          },
          "metadata": {
            "tags": []
          },
          "execution_count": 5
        }
      ]
    },
    {
      "cell_type": "code",
      "metadata": {
        "colab": {
          "base_uri": "https://localhost:8080/"
        },
        "id": "On--2ze-OO_j",
        "outputId": "ed848ccc-4ec6-4f4e-f43c-dc569b6eded9"
      },
      "source": [
        "data.info()"
      ],
      "execution_count": null,
      "outputs": [
        {
          "output_type": "stream",
          "text": [
            "<class 'pandas.core.frame.DataFrame'>\n",
            "RangeIndex: 2416 entries, 0 to 2415\n",
            "Data columns (total 7 columns):\n",
            " #   Column     Non-Null Count  Dtype  \n",
            "---  ------     --------------  -----  \n",
            " 0   Date       2416 non-null   object \n",
            " 1   Open       2416 non-null   float64\n",
            " 2   High       2416 non-null   float64\n",
            " 3   Low        2416 non-null   float64\n",
            " 4   Close      2416 non-null   float64\n",
            " 5   Adj Close  2416 non-null   float64\n",
            " 6   Volume     2416 non-null   int64  \n",
            "dtypes: float64(5), int64(1), object(1)\n",
            "memory usage: 132.2+ KB\n"
          ],
          "name": "stdout"
        }
      ]
    },
    {
      "cell_type": "code",
      "metadata": {
        "colab": {
          "base_uri": "https://localhost:8080/",
          "height": 294
        },
        "id": "NdLhyrzXOPCB",
        "outputId": "343f86ff-1baa-4ca7-c57c-ffbb6e7c9695"
      },
      "source": [
        "data.describe()"
      ],
      "execution_count": null,
      "outputs": [
        {
          "output_type": "execute_result",
          "data": {
            "text/html": [
              "<div>\n",
              "<style scoped>\n",
              "    .dataframe tbody tr th:only-of-type {\n",
              "        vertical-align: middle;\n",
              "    }\n",
              "\n",
              "    .dataframe tbody tr th {\n",
              "        vertical-align: top;\n",
              "    }\n",
              "\n",
              "    .dataframe thead th {\n",
              "        text-align: right;\n",
              "    }\n",
              "</style>\n",
              "<table border=\"1\" class=\"dataframe\">\n",
              "  <thead>\n",
              "    <tr style=\"text-align: right;\">\n",
              "      <th></th>\n",
              "      <th>Open</th>\n",
              "      <th>High</th>\n",
              "      <th>Low</th>\n",
              "      <th>Close</th>\n",
              "      <th>Adj Close</th>\n",
              "      <th>Volume</th>\n",
              "    </tr>\n",
              "  </thead>\n",
              "  <tbody>\n",
              "    <tr>\n",
              "      <th>count</th>\n",
              "      <td>2416.000000</td>\n",
              "      <td>2416.000000</td>\n",
              "      <td>2416.000000</td>\n",
              "      <td>2416.000000</td>\n",
              "      <td>2416.000000</td>\n",
              "      <td>2.416000e+03</td>\n",
              "    </tr>\n",
              "    <tr>\n",
              "      <th>mean</th>\n",
              "      <td>186.271147</td>\n",
              "      <td>189.578224</td>\n",
              "      <td>182.916639</td>\n",
              "      <td>186.403651</td>\n",
              "      <td>186.403651</td>\n",
              "      <td>5.572722e+06</td>\n",
              "    </tr>\n",
              "    <tr>\n",
              "      <th>std</th>\n",
              "      <td>118.740163</td>\n",
              "      <td>120.892329</td>\n",
              "      <td>116.857591</td>\n",
              "      <td>119.136020</td>\n",
              "      <td>119.136020</td>\n",
              "      <td>4.987809e+06</td>\n",
              "    </tr>\n",
              "    <tr>\n",
              "      <th>min</th>\n",
              "      <td>16.139999</td>\n",
              "      <td>16.629999</td>\n",
              "      <td>14.980000</td>\n",
              "      <td>15.800000</td>\n",
              "      <td>15.800000</td>\n",
              "      <td>1.185000e+05</td>\n",
              "    </tr>\n",
              "    <tr>\n",
              "      <th>25%</th>\n",
              "      <td>34.342498</td>\n",
              "      <td>34.897501</td>\n",
              "      <td>33.587501</td>\n",
              "      <td>34.400002</td>\n",
              "      <td>34.400002</td>\n",
              "      <td>1.899275e+06</td>\n",
              "    </tr>\n",
              "    <tr>\n",
              "      <th>50%</th>\n",
              "      <td>213.035003</td>\n",
              "      <td>216.745002</td>\n",
              "      <td>208.870002</td>\n",
              "      <td>212.960007</td>\n",
              "      <td>212.960007</td>\n",
              "      <td>4.578400e+06</td>\n",
              "    </tr>\n",
              "    <tr>\n",
              "      <th>75%</th>\n",
              "      <td>266.450012</td>\n",
              "      <td>270.927513</td>\n",
              "      <td>262.102501</td>\n",
              "      <td>266.774994</td>\n",
              "      <td>266.774994</td>\n",
              "      <td>7.361150e+06</td>\n",
              "    </tr>\n",
              "    <tr>\n",
              "      <th>max</th>\n",
              "      <td>673.690002</td>\n",
              "      <td>786.140015</td>\n",
              "      <td>673.520020</td>\n",
              "      <td>780.000000</td>\n",
              "      <td>780.000000</td>\n",
              "      <td>4.706500e+07</td>\n",
              "    </tr>\n",
              "  </tbody>\n",
              "</table>\n",
              "</div>"
            ],
            "text/plain": [
              "              Open         High  ...    Adj Close        Volume\n",
              "count  2416.000000  2416.000000  ...  2416.000000  2.416000e+03\n",
              "mean    186.271147   189.578224  ...   186.403651  5.572722e+06\n",
              "std     118.740163   120.892329  ...   119.136020  4.987809e+06\n",
              "min      16.139999    16.629999  ...    15.800000  1.185000e+05\n",
              "25%      34.342498    34.897501  ...    34.400002  1.899275e+06\n",
              "50%     213.035003   216.745002  ...   212.960007  4.578400e+06\n",
              "75%     266.450012   270.927513  ...   266.774994  7.361150e+06\n",
              "max     673.690002   786.140015  ...   780.000000  4.706500e+07\n",
              "\n",
              "[8 rows x 6 columns]"
            ]
          },
          "metadata": {
            "tags": []
          },
          "execution_count": 6
        }
      ]
    },
    {
      "cell_type": "code",
      "metadata": {
        "id": "AwmTo4KcOPE0"
      },
      "source": [
        "X = data[['High','Low','Open','Volume']].values\n",
        "y = data['Close'].values"
      ],
      "execution_count": null,
      "outputs": []
    },
    {
      "cell_type": "code",
      "metadata": {
        "id": "m2VXQifLOPHR"
      },
      "source": [
        "X_train, X_test, y_train, y_test = train_test_split(X,y, test_size=0.3, random_state=1)"
      ],
      "execution_count": null,
      "outputs": []
    },
    {
      "cell_type": "code",
      "metadata": {
        "id": "wl4TIVkAOPJt"
      },
      "source": [
        "regressor = LinearRegression()"
      ],
      "execution_count": null,
      "outputs": []
    },
    {
      "cell_type": "code",
      "metadata": {
        "colab": {
          "base_uri": "https://localhost:8080/"
        },
        "id": "fZI6OseWOPLy",
        "outputId": "5ed9af42-d9b6-40a0-c8a7-201c512ee32f"
      },
      "source": [
        "regressor.fit(X_train, y_train)"
      ],
      "execution_count": null,
      "outputs": [
        {
          "output_type": "execute_result",
          "data": {
            "text/plain": [
              "LinearRegression(copy_X=True, fit_intercept=True, n_jobs=None, normalize=False)"
            ]
          },
          "metadata": {
            "tags": []
          },
          "execution_count": 24
        }
      ]
    },
    {
      "cell_type": "code",
      "metadata": {
        "colab": {
          "base_uri": "https://localhost:8080/"
        },
        "id": "t0OAfSj8OPQN",
        "outputId": "b048027c-ffc5-408e-cf53-e7176841ec0b"
      },
      "source": [
        "print(regressor.coef_)"
      ],
      "execution_count": null,
      "outputs": [
        {
          "output_type": "stream",
          "text": [
            "[ 8.82000705e-01  7.40143446e-01 -6.23514690e-01 -1.14306384e-08]\n"
          ],
          "name": "stdout"
        }
      ]
    },
    {
      "cell_type": "code",
      "metadata": {
        "colab": {
          "base_uri": "https://localhost:8080/"
        },
        "id": "MpJes31pO83M",
        "outputId": "8b2bd7a5-f511-4bdb-fed3-1f93a933ae94"
      },
      "source": [
        "print(regressor.intercept_)"
      ],
      "execution_count": null,
      "outputs": [
        {
          "output_type": "stream",
          "text": [
            "-0.02415198975364774\n"
          ],
          "name": "stdout"
        }
      ]
    },
    {
      "cell_type": "code",
      "metadata": {
        "id": "a_BRykrQO85q"
      },
      "source": [
        "predicted = regressor.predict(X_test)"
      ],
      "execution_count": null,
      "outputs": []
    },
    {
      "cell_type": "code",
      "metadata": {
        "colab": {
          "base_uri": "https://localhost:8080/"
        },
        "id": "PMx7xUN9O87u",
        "outputId": "1112eac4-d291-44aa-e322-e13f2e5d0f90"
      },
      "source": [
        "print(predicted)"
      ],
      "execution_count": null,
      "outputs": [
        {
          "output_type": "stream",
          "text": [
            "[ 29.79325269 235.28583478 364.63699319  24.96496935 247.81602835\n",
            " 337.24496418 221.91253707 204.78394408 211.48694208 295.26910433\n",
            " 381.80408679  35.00728995 369.02345057  30.97371213 278.87630306\n",
            " 256.9967241   25.90031616  37.65971688 181.16509206  31.40798897\n",
            " 252.27428919 286.06423329  32.36446418  21.35945459  16.80086112\n",
            " 341.10141833 232.50250486  33.89064145 292.13884102  23.11594754\n",
            "  30.35951966 341.93035234 354.76227375 247.53900917  29.55112806\n",
            " 251.29513505 203.69159911 318.63238407 261.97374719  37.21529283\n",
            "  34.05817311 197.51529097 413.76452453  25.0519831   16.78354601\n",
            "  26.05099965  32.16660227 202.81990272 189.58768178  34.85439954\n",
            " 253.17564522 250.28715986 227.2793829  247.97106389 336.60468152\n",
            " 211.61845639 245.32072412 208.37133354 205.86069494  31.11842162\n",
            " 178.59538054 326.75841113 307.76032081  29.47196817 274.85280057\n",
            " 209.12277515  34.00546926 146.15722256  24.02344158 300.44272766\n",
            " 313.54454405  32.06737382  83.22023411 188.69398117 228.32602299\n",
            " 199.49759254 203.77950644 343.77205103  19.38298922 260.38109751\n",
            " 212.04662433 238.72449069 223.8526195   42.04022589 256.6158978\n",
            " 201.86310352  34.23746133  21.24740731 242.11986543 212.02381811\n",
            " 200.8062214  308.08447184 332.06175993  36.55866237  20.31496413\n",
            " 356.76743247 261.94315037 353.62059044 148.12418026 327.29863445\n",
            " 287.63187238 251.38823122 252.17939659  34.80233459 212.76025223\n",
            " 325.76154141 319.91891782 339.50067155  37.85917582  34.47578895\n",
            " 347.84579137  37.27909622 220.52956899 269.12809495 158.74564734\n",
            "  30.77894759 255.75139814 264.17332599 215.75887504 194.66181875\n",
            "  20.75742191 301.58179899  28.52619261  24.37753944  45.43838562\n",
            "  30.12764243 216.7611115  252.9205285   33.53205602  20.71323797\n",
            " 226.43194014 357.64195472 223.28655096 270.37220073 258.20902387\n",
            "  39.42045757 262.47111171  21.03610578 183.10502201 214.71544448\n",
            " 225.42973187 249.36725767 251.84781659  20.74994458 272.63085702\n",
            "  30.03165786 241.15678201 256.2589702   30.58761145 252.9003754\n",
            "  30.46927093 207.17611224  39.19431016 247.56032141 232.49097654\n",
            "  32.60628092 179.80818423 335.68788157  45.58159085 313.89912926\n",
            " 227.30194742 244.7771301  198.35762824 344.89364075 123.7938076\n",
            " 261.37783433  25.90873219 198.38790777 305.89087152 304.75236154\n",
            " 226.25362593  29.01379017 180.60298534  25.24978358  37.24583638\n",
            " 227.955156    29.20890014 336.35757356 238.82257985  24.36303104\n",
            " 244.99326383 232.50289921  28.39707639  26.61876273 330.74920063\n",
            " 252.69317698  35.81166449 220.72850497 116.32352479 194.96895551\n",
            " 581.00478808 318.88468609 348.81041614 171.03881763 142.1689127\n",
            " 253.55100586 119.10096864 206.43895833 237.44945291 276.8372321\n",
            " 191.92773769 164.20887175 225.00638882  37.1830122  200.68785185\n",
            " 323.3149021  201.41322379 332.60204414 128.35752059 316.65790736\n",
            " 334.22097151 203.0732345   28.88919338 187.88133586 208.19294935\n",
            "  28.49848273  34.00052283 117.87545553 325.18189887 101.49049992\n",
            " 217.03221314 258.3323905   38.91902114 207.0009377  164.57622638\n",
            "  28.350265   330.89405664 176.7044157  221.34924128 205.55083688\n",
            " 234.52597896 318.4308799  220.20578135 771.25972838 333.5996319\n",
            " 122.2611313   28.47065795  23.56858843 248.60258128  27.22804585\n",
            "  26.15488209 232.83167768 122.9258553  204.96604846 211.89105772\n",
            " 223.64443115 249.80550558 140.66835864 331.47787489 344.37870769\n",
            " 211.83656456 105.82692556 138.49693957 202.38895363  26.84463602\n",
            " 365.2244269  218.40588996  33.77936171 282.28848275 306.06069361\n",
            " 363.583232    35.09648068 187.42911348  90.0931348  345.74699493\n",
            " 173.88089469  27.46843379  27.69133523  49.24629129 286.91419818\n",
            "  45.04923953 288.60556305  28.44237065 229.10088859 248.53313538\n",
            " 418.74465733 213.95837572 193.06913884 231.58890305 227.58306271\n",
            "  38.24524743 166.59510044 238.92830469 128.93797219 255.16044857\n",
            " 144.51208114 350.94560982 177.61940433  27.32332562 169.49597427\n",
            " 154.34486722  27.50515997 227.65781068  34.97361225  21.6782829\n",
            "  37.72844637 234.55701879  27.34801389  27.34501792  32.73388672\n",
            " 353.82840326 337.81835968 233.66977032  20.52607178 294.90782309\n",
            " 196.87222152 183.20548568 210.14250073 209.79907934 205.52609872\n",
            "  24.83609663 258.52357712  29.2638553  298.02571332 258.38793538\n",
            "  27.69873052 348.29789527 191.59163274 209.044979   227.66809518\n",
            "  30.40856777 206.6325211  338.78497868 210.67648445 345.13247504\n",
            " 324.10134075  27.84489941  32.0023269  544.10081843 225.66419208\n",
            " 342.79949666 192.71352989  29.03783385 211.34282214 222.20924225\n",
            "  30.21335652  30.53983806  31.17073247  28.64763805 208.71764186\n",
            " 327.84941215 309.24153257 304.55546382 196.75888829  33.34045242\n",
            " 260.30831348  33.09672173 644.84877253 148.58258158 321.95849427\n",
            " 208.54761142 296.83735609 282.99659911  28.67254403 235.78663832\n",
            " 151.84634475 226.70600257 212.2607881  247.01447405 214.66690108\n",
            " 244.74464069  37.58926574 202.35350301 219.71413767 291.68170217\n",
            " 299.13881139 229.94242703 264.16410888  29.46706607 342.13974312\n",
            " 247.1904021   27.32612108 490.48682921 163.53188012 347.24786811\n",
            " 363.86707414  95.47539176 190.4305896   33.38508883 248.43216801\n",
            "  29.72303435  28.34932406 257.91675256 118.65680253 278.84835688\n",
            " 255.38187105  28.56158342 250.8486093  301.61624275 283.33980281\n",
            "  23.95933104 636.80641772 189.82368989 311.0547425  294.16059891\n",
            "  30.23141778 223.95995199 319.82993761 262.41731854 199.37723383\n",
            " 191.54944984  32.52285064  28.00044812 195.29077526  32.30306614\n",
            "  29.36443264 195.49272845  30.92118004 156.77747862 224.28481543\n",
            " 315.18961657  42.92886593 224.39649027 311.10472842  24.666247\n",
            "  31.2595064   22.173478   165.18473734 343.03726051  25.67897697\n",
            "  23.89847614 220.9510998   27.60987638 250.82683965 206.76460593\n",
            " 404.44966584 349.52626327 341.39197947 224.3543919  350.56703132\n",
            " 352.87717127  21.5973839   21.00208632 251.07583517 258.04984357\n",
            " 322.35894171  35.11766776 346.51869509 195.46714231  54.05769052\n",
            " 210.62470037 176.616724   297.85813454 174.33875393 248.01003123\n",
            " 122.28317861  99.00671417  33.09144682  30.7278563  212.35744556\n",
            " 301.86135404  28.34312099  33.51090856  30.01610084  24.19625357\n",
            " 328.06426596  34.30954221 247.37134577 289.17551208 365.13673144\n",
            " 191.3516278  239.45497007  28.72819158 253.89425799 301.47209606\n",
            "  34.48592503  20.36909198  23.55982307 217.81376472  26.57879907\n",
            "  24.92186037 190.34169253 355.31544972 294.50612242  27.77474701\n",
            "  27.45075728 153.17833831 245.82855296 123.36408019 230.47050806\n",
            "  26.57775249 203.43957562  33.98194436 211.61603967  31.8473188\n",
            "  22.87564914  30.86967975 245.73927734 183.34178516  34.88555162\n",
            " 256.59207963  26.20978251 232.29710179 256.33252273 303.12051806\n",
            "  22.12869714 206.56010899 232.6876333  376.23116981 377.41313462\n",
            " 304.10903365  33.15980829 335.30350572 240.44855569  90.46194974\n",
            "  25.31463341 290.89904766 264.47583923 278.99535785 120.58909359\n",
            " 216.61521606 213.3104729  247.38896311 338.87548532 419.74482242\n",
            " 188.10302598 315.45588257 183.66117876  34.91103725 342.08472572\n",
            " 208.99802265  27.53159663 339.72625548 326.13133256 329.37728145\n",
            " 309.503116    28.39837663 270.84889491  22.89694411  30.9952465\n",
            "  34.40521687  19.79855837 221.6365704  258.41731123 350.29787577\n",
            " 286.57323799 346.68770137 225.25448952  27.36002381 277.73886769\n",
            " 289.14412314 285.55215407  28.45564763 216.19554788 268.7651652\n",
            "  28.90801065  28.60030975 213.1719137  328.85140312 298.21397182\n",
            " 198.18166347  31.4264602   25.00320413 184.33808877 296.82941652\n",
            " 227.30201683  24.62428648  28.03606283 300.14677125 177.83778432\n",
            " 236.16986469 251.89742642  33.42944314  30.67646928 160.51341803\n",
            " 197.86204627 203.32346818 329.57951729 311.3607088  200.53571343\n",
            " 255.70903677  21.63767703 190.26525865 236.48882831  34.79967032\n",
            " 252.54010518 368.32141467 233.47937482 321.32473463 282.8379886\n",
            " 192.93893328  52.30506163  17.27877404 193.12826495 192.99910806\n",
            "  34.66916048  28.81240188 279.16553705 205.22083762 326.99164382\n",
            " 221.84671443 298.79118634 228.57013428 229.56774638 315.10778039\n",
            " 157.83521838  90.30813485  28.36680975 315.43321606 216.38130257\n",
            " 304.55256341 166.92046653 212.50096393 227.95073302 134.31648146\n",
            " 216.92464433 251.07990773 288.33762747  43.90553295 294.00050857\n",
            "  20.49223916 269.09524231  20.81738286 222.30662838 254.35017726\n",
            " 209.44301591 297.77853777  23.78514817 204.03661743 243.07671193\n",
            "  27.30577372  27.46464232 306.97533634 315.2358502  204.3254065\n",
            " 255.12695852 371.55500819 123.47987583 202.76885976  33.69320469\n",
            " 180.63307115  31.29663501  25.97735142  35.60149018 227.9254239\n",
            "  28.10605216 341.12500919 201.72518423  34.12505316 263.94897421\n",
            " 189.68209015 229.09687493  28.02207316 239.74709207  34.6704388\n",
            " 233.75752564 177.01514013 243.28301207 333.12716039 247.70693832\n",
            "  46.84648739 367.8752508  313.58370015 183.31303943 269.60922599\n",
            " 227.54937003 201.28366437 366.58055716 240.29572767 297.99408314\n",
            "  18.89900512 254.86321618 307.1079602  335.49673806 143.72022385\n",
            " 200.27876638 318.53184074 189.59647528 224.27578708 204.46943572\n",
            "  28.23858335  26.91911604 278.25791149 198.86938566 230.24969286\n",
            " 360.65899273 248.05905604 315.30081555 341.42021909 330.55651514\n",
            " 205.66305898 313.17989976 234.93970066 208.55262275 376.73017167\n",
            " 241.21060028 229.08620916 147.60952013 213.04149989 229.81295721\n",
            " 237.64735457 194.28746265 297.74482003 223.25220724  31.17782024\n",
            "  20.92695228  29.94226143 271.58085656 208.47531393 229.65424397\n",
            " 228.18457321 225.15294507  24.80058025 251.74978834  29.00612022\n",
            " 150.61198727 221.29885683 322.54979208 202.23983556 285.63435092\n",
            " 353.45939441  26.15421391 234.52933251 349.65034662 309.73320295\n",
            "  27.28164931  33.14335032  23.63805835 356.74508911 238.39328758\n",
            " 244.70371559 224.9906404   39.11443054 301.54979574 313.23679968]\n"
          ],
          "name": "stdout"
        }
      ]
    },
    {
      "cell_type": "code",
      "metadata": {
        "id": "j0tgpS_tOPSo"
      },
      "source": [
        "data1 = pd.DataFrame({'Actual': y_test.flatten(), 'Predicted' : predicted.flatten()})"
      ],
      "execution_count": null,
      "outputs": []
    },
    {
      "cell_type": "code",
      "metadata": {
        "colab": {
          "base_uri": "https://localhost:8080/",
          "height": 663
        },
        "id": "G9zvaUKwPPB-",
        "outputId": "58990312-9a1e-4447-910b-bc9af880a989"
      },
      "source": [
        "data1.head(20)"
      ],
      "execution_count": null,
      "outputs": [
        {
          "output_type": "execute_result",
          "data": {
            "text/html": [
              "<div>\n",
              "<style scoped>\n",
              "    .dataframe tbody tr th:only-of-type {\n",
              "        vertical-align: middle;\n",
              "    }\n",
              "\n",
              "    .dataframe tbody tr th {\n",
              "        vertical-align: top;\n",
              "    }\n",
              "\n",
              "    .dataframe thead th {\n",
              "        text-align: right;\n",
              "    }\n",
              "</style>\n",
              "<table border=\"1\" class=\"dataframe\">\n",
              "  <thead>\n",
              "    <tr style=\"text-align: right;\">\n",
              "      <th></th>\n",
              "      <th>Actual</th>\n",
              "      <th>Predicted</th>\n",
              "    </tr>\n",
              "  </thead>\n",
              "  <tbody>\n",
              "    <tr>\n",
              "      <th>0</th>\n",
              "      <td>29.940001</td>\n",
              "      <td>29.793253</td>\n",
              "    </tr>\n",
              "    <tr>\n",
              "      <th>1</th>\n",
              "      <td>235.839996</td>\n",
              "      <td>235.285835</td>\n",
              "    </tr>\n",
              "    <tr>\n",
              "      <th>2</th>\n",
              "      <td>362.750000</td>\n",
              "      <td>364.636993</td>\n",
              "    </tr>\n",
              "    <tr>\n",
              "      <th>3</th>\n",
              "      <td>24.740000</td>\n",
              "      <td>24.964969</td>\n",
              "    </tr>\n",
              "    <tr>\n",
              "      <th>4</th>\n",
              "      <td>250.029999</td>\n",
              "      <td>247.816028</td>\n",
              "    </tr>\n",
              "    <tr>\n",
              "      <th>5</th>\n",
              "      <td>334.850006</td>\n",
              "      <td>337.244964</td>\n",
              "    </tr>\n",
              "    <tr>\n",
              "      <th>6</th>\n",
              "      <td>222.600006</td>\n",
              "      <td>221.912537</td>\n",
              "    </tr>\n",
              "    <tr>\n",
              "      <th>7</th>\n",
              "      <td>203.759995</td>\n",
              "      <td>204.783944</td>\n",
              "    </tr>\n",
              "    <tr>\n",
              "      <th>8</th>\n",
              "      <td>209.600006</td>\n",
              "      <td>211.486942</td>\n",
              "    </tr>\n",
              "    <tr>\n",
              "      <th>9</th>\n",
              "      <td>294.790009</td>\n",
              "      <td>295.269104</td>\n",
              "    </tr>\n",
              "    <tr>\n",
              "      <th>10</th>\n",
              "      <td>378.989990</td>\n",
              "      <td>381.804087</td>\n",
              "    </tr>\n",
              "    <tr>\n",
              "      <th>11</th>\n",
              "      <td>35.000000</td>\n",
              "      <td>35.007290</td>\n",
              "    </tr>\n",
              "    <tr>\n",
              "      <th>12</th>\n",
              "      <td>365.709991</td>\n",
              "      <td>369.023451</td>\n",
              "    </tr>\n",
              "    <tr>\n",
              "      <th>13</th>\n",
              "      <td>31.360001</td>\n",
              "      <td>30.973712</td>\n",
              "    </tr>\n",
              "    <tr>\n",
              "      <th>14</th>\n",
              "      <td>279.760010</td>\n",
              "      <td>278.876303</td>\n",
              "    </tr>\n",
              "    <tr>\n",
              "      <th>15</th>\n",
              "      <td>259.959991</td>\n",
              "      <td>256.996724</td>\n",
              "    </tr>\n",
              "    <tr>\n",
              "      <th>16</th>\n",
              "      <td>25.830000</td>\n",
              "      <td>25.900316</td>\n",
              "    </tr>\n",
              "    <tr>\n",
              "      <th>17</th>\n",
              "      <td>37.689999</td>\n",
              "      <td>37.659717</td>\n",
              "    </tr>\n",
              "    <tr>\n",
              "      <th>18</th>\n",
              "      <td>180.949997</td>\n",
              "      <td>181.165092</td>\n",
              "    </tr>\n",
              "    <tr>\n",
              "      <th>19</th>\n",
              "      <td>31.840000</td>\n",
              "      <td>31.407989</td>\n",
              "    </tr>\n",
              "  </tbody>\n",
              "</table>\n",
              "</div>"
            ],
            "text/plain": [
              "        Actual   Predicted\n",
              "0    29.940001   29.793253\n",
              "1   235.839996  235.285835\n",
              "2   362.750000  364.636993\n",
              "3    24.740000   24.964969\n",
              "4   250.029999  247.816028\n",
              "5   334.850006  337.244964\n",
              "6   222.600006  221.912537\n",
              "7   203.759995  204.783944\n",
              "8   209.600006  211.486942\n",
              "9   294.790009  295.269104\n",
              "10  378.989990  381.804087\n",
              "11   35.000000   35.007290\n",
              "12  365.709991  369.023451\n",
              "13   31.360001   30.973712\n",
              "14  279.760010  278.876303\n",
              "15  259.959991  256.996724\n",
              "16   25.830000   25.900316\n",
              "17   37.689999   37.659717\n",
              "18  180.949997  181.165092\n",
              "19   31.840000   31.407989"
            ]
          },
          "metadata": {
            "tags": []
          },
          "execution_count": 31
        }
      ]
    },
    {
      "cell_type": "code",
      "metadata": {
        "id": "Y4k2g005T0D0"
      },
      "source": [
        "graph = data1.head(20)"
      ],
      "execution_count": null,
      "outputs": []
    },
    {
      "cell_type": "code",
      "metadata": {
        "colab": {
          "base_uri": "https://localhost:8080/",
          "height": 289
        },
        "id": "JjDhT_SOT0t8",
        "outputId": "d168fdbc-bfa1-4950-97ad-c52ac56b130d"
      },
      "source": [
        "graph.plot(kind='bar')"
      ],
      "execution_count": null,
      "outputs": [
        {
          "output_type": "execute_result",
          "data": {
            "text/plain": [
              "<matplotlib.axes._subplots.AxesSubplot at 0x7efccea91710>"
            ]
          },
          "metadata": {
            "tags": []
          },
          "execution_count": 33
        },
        {
          "output_type": "display_data",
          "data": {
            "image/png": "[encoded data removed]",
            "text/plain": [
              "<Figure size 432x288 with 1 Axes>"
            ]
          },
          "metadata": {
            "tags": [],
            "needs_background": "light"
          }
        }
      ]
    },
    {
      "cell_type": "code",
      "metadata": {
        "colab": {
          "base_uri": "https://localhost:8080/",
          "height": 281
        },
        "id": "f3pB7eLEVwzM",
        "outputId": "44ef76ab-3059-4321-f041-16c34472dccc"
      },
      "source": [
        "plt.plot(data1['Actual'],c='red',label='Actual')\n",
        "plt.plot(data1['Predicted'],c='green',label='Predicted')\n",
        "plt.legend()"
      ],
      "execution_count": null,
      "outputs": [
        {
          "output_type": "execute_result",
          "data": {
            "text/plain": [
              "<matplotlib.legend.Legend at 0x7efcce944c90>"
            ]
          },
          "metadata": {
            "tags": []
          },
          "execution_count": 34
        },
        {
          "output_type": "display_data",
          "data": {
            "image/png": "[encoded data removed]",
            "text/plain": [
              "<Figure size 432x288 with 1 Axes>"
            ]
          },
          "metadata": {
            "tags": [],
            "needs_background": "light"
          }
        }
      ]
    },
    {
      "cell_type": "code",
      "metadata": {
        "colab": {
          "base_uri": "https://localhost:8080/"
        },
        "id": "zpumAoLWPWLn",
        "outputId": "f950fc2b-6b12-4e49-8354-cff81cacb80a"
      },
      "source": [
        "import math\n",
        "print('Mean Absolute Error:', metrics.mean_absolute_error(y_test,predicted))\n",
        "print('Mean Squared Error:', metrics.mean_squared_error(y_test,predicted))\n",
        "print('Root Mean Squared Error:', math.sqrt(metrics.mean_squared_error(y_test,predicted)))"
      ],
      "execution_count": null,
      "outputs": [
        {
          "output_type": "stream",
          "text": [
            "Mean Absolute Error: 1.441108699200798\n",
            "Mean Squared Error: 4.410972416634512\n",
            "Root Mean Squared Error: 2.100231515008408\n"
          ],
          "name": "stdout"
        }
      ]
    },
    {
      "cell_type": "code",
      "metadata": {
        "colab": {
          "base_uri": "https://localhost:8080/"
        },
        "id": "uIMI6BPYPWN_",
        "outputId": "f902a471-55a0-485b-ebfa-5061cdd9b831"
      },
      "source": [
        "#calculate RMSE\n",
        "pred = regressor.predict(X_test)\n",
        "np.sqrt(mean_squared_error(y_test, predicted))"
      ],
      "execution_count": null,
      "outputs": [
        {
          "output_type": "execute_result",
          "data": {
            "text/plain": [
              "2.100231515008408"
            ]
          },
          "metadata": {
            "tags": []
          },
          "execution_count": 20
        }
      ]
    },
    {
      "cell_type": "code",
      "metadata": {
        "colab": {
          "base_uri": "https://localhost:8080/"
        },
        "id": "WPLXO9oaRJ78",
        "outputId": "0c5e9f68-cf6e-4fb5-9631-95b97d577c82"
      },
      "source": [
        "################## R square value is 0.9999 before implement of PCA ################\n",
        "\n",
        "regressor.score(X_test,y_test)"
      ],
      "execution_count": null,
      "outputs": [
        {
          "output_type": "execute_result",
          "data": {
            "text/plain": [
              "0.9996999373864549"
            ]
          },
          "metadata": {
            "tags": []
          },
          "execution_count": 39
        }
      ]
    },
    {
      "cell_type": "code",
      "metadata": {
        "id": "bTUVFgDsPwue"
      },
      "source": [
        "#Data Standardisation\n",
        "from sklearn.preprocessing import StandardScaler\n",
        "scalar = StandardScaler()\n",
        "X_scaled = scalar.fit(X)\n",
        "X_std = X_scaled.transform(X)"
      ],
      "execution_count": null,
      "outputs": []
    },
    {
      "cell_type": "code",
      "metadata": {
        "colab": {
          "base_uri": "https://localhost:8080/"
        },
        "id": "r1Vc4SVAPwwj",
        "outputId": "e606bfed-5dc5-4754-f498-2ad6682581fb"
      },
      "source": [
        "X_std"
      ],
      "execution_count": null,
      "outputs": [
        {
          "output_type": "execute_result",
          "data": {
            "text/plain": [
              "array([[-1.36164384, -1.41549105, -1.40900745,  2.64571262],\n",
              "       [-1.31680128, -1.3661901 , -1.35181192,  2.32903512],\n",
              "       [-1.35403219, -1.39212445, -1.35846649,  0.53061896],\n",
              "       ...,\n",
              "       [ 3.81659683,  3.72396373,  3.75813192,  4.69902289],\n",
              "       [ 3.83413668,  3.84824343,  3.82198214,  2.0346967 ],\n",
              "       [ 4.93567537,  4.19917046,  4.10576966,  8.32046028]])"
            ]
          },
          "metadata": {
            "tags": []
          },
          "execution_count": 23
        }
      ]
    },
    {
      "cell_type": "code",
      "metadata": {
        "colab": {
          "base_uri": "https://localhost:8080/"
        },
        "id": "cT2DuTHeP8CW",
        "outputId": "bfc435d2-b69f-424b-d6d2-c2a4a4bf0cde"
      },
      "source": [
        "X_std.shape"
      ],
      "execution_count": null,
      "outputs": [
        {
          "output_type": "execute_result",
          "data": {
            "text/plain": [
              "(2416, 4)"
            ]
          },
          "metadata": {
            "tags": []
          },
          "execution_count": 24
        }
      ]
    },
    {
      "cell_type": "code",
      "metadata": {
        "colab": {
          "base_uri": "https://localhost:8080/"
        },
        "id": "ExeS6n9hP8Eq",
        "outputId": "4585f845-d8f8-43bc-d9ae-a7cb4b099802"
      },
      "source": [
        "cov_mat = np.cov(X_std.T)\n",
        "print('NumPy covariance matrix: \\n%s' %cov_mat)"
      ],
      "execution_count": null,
      "outputs": [
        {
          "output_type": "stream",
          "text": [
            "NumPy covariance matrix: \n",
            "[[1.00041408 0.99980295 0.99983908 0.51315622]\n",
            " [0.99980295 1.00041408 0.99998891 0.49370073]\n",
            " [0.99983908 0.99998891 1.00041408 0.50196991]\n",
            " [0.51315622 0.49370073 0.50196991 1.00041408]]\n"
          ],
          "name": "stdout"
        }
      ]
    },
    {
      "cell_type": "code",
      "metadata": {
        "colab": {
          "base_uri": "https://localhost:8080/"
        },
        "id": "0al3_G1DQDyV",
        "outputId": "f1d55610-d80d-490e-d5d9-8d6c544befd0"
      },
      "source": [
        "eig_vals, eig_vecs = np.linalg.eig(cov_mat)\n",
        "\n",
        "print('Eigenvectors \\n%s' %eig_vecs)\n",
        "print('\\nEigenvalues \\n%s' %eig_vals)"
      ],
      "execution_count": null,
      "outputs": [
        {
          "output_type": "stream",
          "text": [
            "Eigenvectors \n",
            "[[ 0.54173311 -0.18824489 -0.67452355  0.46487319]\n",
            " [ 0.53970574 -0.21532484 -0.06552599 -0.81120853]\n",
            " [ 0.54058362 -0.20384756  0.73527953  0.35437202]\n",
            " [ 0.3507311   0.93629335  0.00939872 -0.01594102]]\n",
            "\n",
            "Eigenvalues \n",
            "[3.32642267e+00 6.74415383e-01 4.91778940e-04 3.26483101e-04]\n"
          ],
          "name": "stdout"
        }
      ]
    },
    {
      "cell_type": "code",
      "metadata": {
        "colab": {
          "base_uri": "https://localhost:8080/"
        },
        "id": "1WtxhGxJQD0O",
        "outputId": "eb4fbfdd-ed5c-4d7d-8371-f670df4f677f"
      },
      "source": [
        "# Make a list of (eigenvalue, eigenvector) tuples\n",
        "eig_pairs = [(np.abs(eig_vals[i]), eig_vecs[:,i]) for i in range(len(eig_vals))]\n",
        "\n",
        "# Sort the (eigenvalue, eigenvector) tuples from high to low\n",
        "eig_pairs.sort(key=lambda x: x[0], reverse=True)\n",
        "\n",
        "# Visually confirm that the list is correctly sorted by decreasing eigenvalues\n",
        "print('Eigenvalues in descending order:')\n",
        "for i in eig_pairs:\n",
        "    print(i[0])"
      ],
      "execution_count": null,
      "outputs": [
        {
          "output_type": "stream",
          "text": [
            "Eigenvalues in descending order:\n",
            "3.326422669376374\n",
            "0.6744153832826763\n",
            "0.0004917789396437246\n",
            "0.00032648310109962756\n"
          ],
          "name": "stdout"
        }
      ]
    },
    {
      "cell_type": "code",
      "metadata": {
        "id": "UB3l2IAuPPEU"
      },
      "source": [
        "tot = sum(eig_vals)\n",
        "var_exp = [(i / tot)*100 for i in sorted(eig_vals, reverse=True)]"
      ],
      "execution_count": null,
      "outputs": []
    },
    {
      "cell_type": "code",
      "metadata": {
        "colab": {
          "base_uri": "https://localhost:8080/",
          "height": 296
        },
        "id": "TfgU27OwQVNe",
        "outputId": "707f3e80-24d3-4642-e0f7-75644379d0d4"
      },
      "source": [
        "from sklearn.decomposition import PCA\n",
        "pca = PCA().fit(X_std)\n",
        "plt.plot(np.cumsum(pca.explained_variance_ratio_))\n",
        "plt.xlim(0,5,10)\n",
        "plt.xlabel('Number of components')\n",
        "plt.ylabel('Cumulative explained variance')"
      ],
      "execution_count": null,
      "outputs": [
        {
          "output_type": "execute_result",
          "data": {
            "text/plain": [
              "Text(0, 0.5, 'Cumulative explained variance')"
            ]
          },
          "metadata": {
            "tags": []
          },
          "execution_count": 31
        },
        {
          "output_type": "display_data",
          "data": {
            "image/png": "[encoded data removed]",
            "text/plain": [
              "<Figure size 432x288 with 1 Axes>"
            ]
          },
          "metadata": {
            "tags": [],
            "needs_background": "light"
          }
        }
      ]
    },
    {
      "cell_type": "code",
      "metadata": {
        "id": "nT1cUIiLQc1t"
      },
      "source": [
        "from sklearn.decomposition import PCA\n",
        "from sklearn import model_selection\n",
        "from sklearn.preprocessing import StandardScaler"
      ],
      "execution_count": null,
      "outputs": []
    },
    {
      "cell_type": "code",
      "metadata": {
        "id": "x_n73BHJQc5-"
      },
      "source": [
        "pca = PCA(n_components=2)\n",
        "X_reduced = pca.fit_transform(scale(X))"
      ],
      "execution_count": null,
      "outputs": []
    },
    {
      "cell_type": "code",
      "metadata": {
        "id": "Y_XAZHf7Ql7L"
      },
      "source": [
        "regr = LinearRegression()"
      ],
      "execution_count": null,
      "outputs": []
    },
    {
      "cell_type": "code",
      "metadata": {
        "id": "GMvxrEV7QseE"
      },
      "source": [
        "X_train,X_test,y_train,y_test = train_test_split(X,y,test_size=0.3,random_state=0)"
      ],
      "execution_count": null,
      "outputs": []
    },
    {
      "cell_type": "code",
      "metadata": {
        "id": "Ll_1ySBOQl9i"
      },
      "source": [
        "#scale the training and testing data\n",
        "X_reduced_train = pca.fit_transform(scale(X_train))\n",
        "X_reduced_test = pca.transform(scale(X_test))[:,:1]"
      ],
      "execution_count": null,
      "outputs": []
    },
    {
      "cell_type": "code",
      "metadata": {
        "colab": {
          "base_uri": "https://localhost:8080/"
        },
        "id": "lNzPAzpyQx7i",
        "outputId": "a4697bf5-7df5-4921-e73f-a204e3c85dcf"
      },
      "source": [
        "#train PCR model on training data \n",
        "regr = LinearRegression()\n",
        "regr.fit(X_reduced_train[:,:1], y_train)"
      ],
      "execution_count": null,
      "outputs": [
        {
          "output_type": "execute_result",
          "data": {
            "text/plain": [
              "LinearRegression(copy_X=True, fit_intercept=True, n_jobs=None, normalize=False)"
            ]
          },
          "metadata": {
            "tags": []
          },
          "execution_count": 37
        }
      ]
    },
    {
      "cell_type": "code",
      "metadata": {
        "colab": {
          "base_uri": "https://localhost:8080/"
        },
        "id": "a5MuLoqtQx9p",
        "outputId": "488b6cd4-a994-4364-b0fc-f9425e145c98"
      },
      "source": [
        "#calculate RMSE\n",
        "pred = regr.predict(X_reduced_test)\n",
        "np.sqrt(mean_squared_error(y_test, pred))"
      ],
      "execution_count": null,
      "outputs": [
        {
          "output_type": "execute_result",
          "data": {
            "text/plain": [
              "20.039547663544823"
            ]
          },
          "metadata": {
            "tags": []
          },
          "execution_count": 38
        }
      ]
    },
    {
      "cell_type": "code",
      "metadata": {
        "colab": {
          "base_uri": "https://localhost:8080/"
        },
        "id": "hO7rBIf0Qc-L",
        "outputId": "c34c296b-64c0-49b9-e4cc-76d1f1417712"
      },
      "source": [
        "################## R square value is 0.9725 after implement of PCA #################\n",
        "\n",
        "regr.score(X_reduced_train[:,:1], y_train)"
      ],
      "execution_count": null,
      "outputs": [
        {
          "output_type": "execute_result",
          "data": {
            "text/plain": [
              "0.9725020695700577"
            ]
          },
          "metadata": {
            "tags": []
          },
          "execution_count": 40
        }
      ]
    },
    {
      "cell_type": "code",
      "metadata": {
        "id": "vw5luXheTaXs"
      },
      "source": [
        "data2 = pd.DataFrame({'PCA_Actual': y_test.flatten(), 'Predicted' : pred.flatten()})"
      ],
      "execution_count": null,
      "outputs": []
    },
    {
      "cell_type": "code",
      "metadata": {
        "colab": {
          "base_uri": "https://localhost:8080/",
          "height": 663
        },
        "id": "Ev7ibhPUTa5m",
        "outputId": "acefbad0-f73b-4367-9c78-7acdc4af298d"
      },
      "source": [
        "data2.head(20)"
      ],
      "execution_count": null,
      "outputs": [
        {
          "output_type": "execute_result",
          "data": {
            "text/html": [
              "<div>\n",
              "<style scoped>\n",
              "    .dataframe tbody tr th:only-of-type {\n",
              "        vertical-align: middle;\n",
              "    }\n",
              "\n",
              "    .dataframe tbody tr th {\n",
              "        vertical-align: top;\n",
              "    }\n",
              "\n",
              "    .dataframe thead th {\n",
              "        text-align: right;\n",
              "    }\n",
              "</style>\n",
              "<table border=\"1\" class=\"dataframe\">\n",
              "  <thead>\n",
              "    <tr style=\"text-align: right;\">\n",
              "      <th></th>\n",
              "      <th>PCA_Actual</th>\n",
              "      <th>Predicted</th>\n",
              "    </tr>\n",
              "  </thead>\n",
              "  <tbody>\n",
              "    <tr>\n",
              "      <th>0</th>\n",
              "      <td>207.729996</td>\n",
              "      <td>207.563328</td>\n",
              "    </tr>\n",
              "    <tr>\n",
              "      <th>1</th>\n",
              "      <td>28.280001</td>\n",
              "      <td>29.569047</td>\n",
              "    </tr>\n",
              "    <tr>\n",
              "      <th>2</th>\n",
              "      <td>24.010000</td>\n",
              "      <td>25.983811</td>\n",
              "    </tr>\n",
              "    <tr>\n",
              "      <th>3</th>\n",
              "      <td>315.230011</td>\n",
              "      <td>340.078983</td>\n",
              "    </tr>\n",
              "    <tr>\n",
              "      <th>4</th>\n",
              "      <td>200.240005</td>\n",
              "      <td>186.611849</td>\n",
              "    </tr>\n",
              "    <tr>\n",
              "      <th>5</th>\n",
              "      <td>210.240005</td>\n",
              "      <td>201.257793</td>\n",
              "    </tr>\n",
              "    <tr>\n",
              "      <th>6</th>\n",
              "      <td>26.440001</td>\n",
              "      <td>28.860505</td>\n",
              "    </tr>\n",
              "    <tr>\n",
              "      <th>7</th>\n",
              "      <td>22.790001</td>\n",
              "      <td>46.835343</td>\n",
              "    </tr>\n",
              "    <tr>\n",
              "      <th>8</th>\n",
              "      <td>224.839996</td>\n",
              "      <td>218.635849</td>\n",
              "    </tr>\n",
              "    <tr>\n",
              "      <th>9</th>\n",
              "      <td>353.179993</td>\n",
              "      <td>323.425184</td>\n",
              "    </tr>\n",
              "    <tr>\n",
              "      <th>10</th>\n",
              "      <td>219.039993</td>\n",
              "      <td>209.061255</td>\n",
              "    </tr>\n",
              "    <tr>\n",
              "      <th>11</th>\n",
              "      <td>278.480011</td>\n",
              "      <td>268.121618</td>\n",
              "    </tr>\n",
              "    <tr>\n",
              "      <th>12</th>\n",
              "      <td>31.799999</td>\n",
              "      <td>30.327658</td>\n",
              "    </tr>\n",
              "    <tr>\n",
              "      <th>13</th>\n",
              "      <td>102.199997</td>\n",
              "      <td>121.231179</td>\n",
              "    </tr>\n",
              "    <tr>\n",
              "      <th>14</th>\n",
              "      <td>20.430000</td>\n",
              "      <td>18.576236</td>\n",
              "    </tr>\n",
              "    <tr>\n",
              "      <th>15</th>\n",
              "      <td>346.049988</td>\n",
              "      <td>326.000657</td>\n",
              "    </tr>\n",
              "    <tr>\n",
              "      <th>16</th>\n",
              "      <td>104.629997</td>\n",
              "      <td>203.803483</td>\n",
              "    </tr>\n",
              "    <tr>\n",
              "      <th>17</th>\n",
              "      <td>260.170013</td>\n",
              "      <td>248.415648</td>\n",
              "    </tr>\n",
              "    <tr>\n",
              "      <th>18</th>\n",
              "      <td>28.059999</td>\n",
              "      <td>26.365404</td>\n",
              "    </tr>\n",
              "    <tr>\n",
              "      <th>19</th>\n",
              "      <td>225.000000</td>\n",
              "      <td>204.449214</td>\n",
              "    </tr>\n",
              "  </tbody>\n",
              "</table>\n",
              "</div>"
            ],
            "text/plain": [
              "    PCA_Actual   Predicted\n",
              "0   207.729996  207.563328\n",
              "1    28.280001   29.569047\n",
              "2    24.010000   25.983811\n",
              "3   315.230011  340.078983\n",
              "4   200.240005  186.611849\n",
              "5   210.240005  201.257793\n",
              "6    26.440001   28.860505\n",
              "7    22.790001   46.835343\n",
              "8   224.839996  218.635849\n",
              "9   353.179993  323.425184\n",
              "10  219.039993  209.061255\n",
              "11  278.480011  268.121618\n",
              "12   31.799999   30.327658\n",
              "13  102.199997  121.231179\n",
              "14   20.430000   18.576236\n",
              "15  346.049988  326.000657\n",
              "16  104.629997  203.803483\n",
              "17  260.170013  248.415648\n",
              "18   28.059999   26.365404\n",
              "19  225.000000  204.449214"
            ]
          },
          "metadata": {
            "tags": []
          },
          "execution_count": 53
        }
      ]
    },
    {
      "cell_type": "code",
      "metadata": {
        "id": "D79WAKPjTa7z"
      },
      "source": [
        "graph = data2.head(20)"
      ],
      "execution_count": null,
      "outputs": []
    },
    {
      "cell_type": "code",
      "metadata": {
        "colab": {
          "base_uri": "https://localhost:8080/",
          "height": 285
        },
        "id": "Jtx-m5o1UaLU",
        "outputId": "7421feb9-01ee-4196-d9e3-c9ae7ca62218"
      },
      "source": [
        "graph.plot(kind='bar')"
      ],
      "execution_count": null,
      "outputs": [
        {
          "output_type": "execute_result",
          "data": {
            "text/plain": [
              "<matplotlib.axes._subplots.AxesSubplot at 0x7f7ad0db5210>"
            ]
          },
          "metadata": {
            "tags": []
          },
          "execution_count": 55
        },
        {
          "output_type": "display_data",
          "data": {
            "image/png": "[encoded data removed]",
            "text/plain": [
              "<Figure size 432x288 with 1 Axes>"
            ]
          },
          "metadata": {
            "tags": [],
            "needs_background": "light"
          }
        }
      ]
    },
    {
      "cell_type": "code",
      "metadata": {
        "colab": {
          "base_uri": "https://localhost:8080/",
          "height": 281
        },
        "id": "GE85MMouUaNi",
        "outputId": "53eed138-d6f9-4041-c730-cc5c64a032b2"
      },
      "source": [
        "plt.plot(data2['PCA_Actual'],c='red',label='PCA_Actual')\n",
        "plt.plot(data2['Predicted'],c='green',label='Predicted')\n",
        "plt.legend()"
      ],
      "execution_count": null,
      "outputs": [
        {
          "output_type": "execute_result",
          "data": {
            "text/plain": [
              "<matplotlib.legend.Legend at 0x7f7ad0cb80d0>"
            ]
          },
          "metadata": {
            "tags": []
          },
          "execution_count": 65
        },
        {
          "output_type": "display_data",
          "data": {
            "image/png": "[encoded data removed]",
            "text/plain": [
              "<Figure size 432x288 with 1 Axes>"
            ]
          },
          "metadata": {
            "tags": [],
            "needs_background": "light"
          }
        }
      ]
    },
    {
      "cell_type": "code",
      "metadata": {
        "id": "xwT2V7REU8oE"
      },
      "source": [
        ""
      ],
      "execution_count": null,
      "outputs": []
    },
    {
      "cell_type": "code",
      "metadata": {
        "id": "qIDYVxq_U8qK"
      },
      "source": [
        ""
      ],
      "execution_count": null,
      "outputs": []
    }
  ]
}